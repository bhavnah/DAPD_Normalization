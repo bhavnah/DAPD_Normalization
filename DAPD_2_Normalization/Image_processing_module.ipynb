{
 "cells": [
  {
   "cell_type": "markdown",
   "metadata": {},
   "source": [
    "# <font color=blue>Image_processing_module </font>\n",
    "Image_processing_module reads the images and applies image processing algorithms to obtain the plant phenotyping measurements."
   ]
  },
  {
   "cell_type": "markdown",
   "metadata": {},
   "source": [
    "### Importing modules\n",
    "The Python and custom modules are loaded using the import command"
   ]
  },
  {
   "cell_type": "code",
   "execution_count": 6,
   "metadata": {},
   "outputs": [],
   "source": [
    "import numpy as np\n",
    "import cv2\n",
    "import pandas as pd\n",
    "import cropping\n",
    "from datetime import datetime\n",
    "import os\n",
    "import colorCorrection\n",
    "import imalgo\n",
    "import segmentation\n",
    "import sys\n",
    "import plotting\n",
    "import leafcount\n",
    "from scipy import signal\n",
    "from scipy.signal import find_peaks\n",
    "import save"
   ]
  },
  {
   "cell_type": "markdown",
   "metadata": {},
   "source": [
    "### Variable declaration\n",
    "__expID__ is the experiment ID. __daySowing__ is the day when the seeds were sown into the soil. __dayStart__ is the first day of the image acquisition from the sowing day. __dayStop__ is the last day of the image acquisition from the sowing day. __krnl__ is the filter kernel size."
   ]
  },
  {
   "cell_type": "code",
   "execution_count": 7,
   "metadata": {},
   "outputs": [],
   "source": [
    "expID, daySowing, cam = 'Exp8', '2018-08-03-11-00', 'cam04'\n",
    "winsiz = 300\n",
    "win = int(winsiz/2)"
   ]
  },
  {
   "cell_type": "markdown",
   "metadata": {},
   "source": [
    "### Experiment Directories\n",
    "Each experiment has its own set of files which are stored in a specific directory. They are loaded based on the full file directory."
   ]
  },
  {
   "cell_type": "code",
   "execution_count": 8,
   "metadata": {},
   "outputs": [],
   "source": [
    "dirCurrent  = os.getcwd()\n",
    "dirParent   = os.path.abspath(os.path.join(dirCurrent, os.pardir)) \n",
    "root        = os.path.join(dirParent, expID)\n",
    "path_label  = os.path.join(root, expID + '_label.csv')\n",
    "path_images = os.path.join(root, expID + '_' + 'images', cam)\n",
    "path_CSV    = os.path.join(root, expID + '_csvFiles')\n",
    "path_coor   = os.path.join(root, expID + '_tray_coord_' + cam + '.csv')\n",
    "path_mtx    = os.path.join(root, 'camParam' , cam + '_MTX' + '.npy')\n",
    "path_dis    = os.path.join(root, 'camParam' , cam + '_DIST' + '.npy')\n",
    "path_trash  = os.path.join(dirParent, 'trash')\n",
    "\n",
    "if not os.path.exists(path_CSV): os.makedirs(path_CSV) \n",
    "\n",
    "if not os.path.exists(path_trash): os.makedirs(path_trash) "
   ]
  },
  {
   "cell_type": "markdown",
   "metadata": {},
   "source": [
    "### Read files \n",
    "This section reads the plant images and csv files which contain the general information "
   ]
  },
  {
   "cell_type": "code",
   "execution_count": 9,
   "metadata": {},
   "outputs": [],
   "source": [
    "images = os.listdir(path_images)   \n",
    "mtx = np.load(path_mtx)\n",
    "dist = np.load(path_dis)\n",
    "coor = pd.read_csv(path_coor)\n",
    "coor = coor[coor['cam']== int(cam[3:])]\n",
    "card = cv2.imread('card.png')\n",
    "label = pd.read_csv(path_label)\n",
    "label['col'] = label['position'].apply(lambda x : x[0])\n",
    "label['row'] = label['position'].apply(lambda x : x[1])\n",
    "trayCol = pd.unique(label.loc[:, 'col'])\n",
    "trayRow = pd.unique(label.loc[:, 'row'])\n",
    "potCoor = cropping.potAll( coor, trayCol, trayRow, win)  "
   ]
  },
  {
   "cell_type": "markdown",
   "metadata": {},
   "source": [
    "This section filters out the outliers plants based on the ExpX_label.csv file/"
   ]
  },
  {
   "cell_type": "code",
   "execution_count": 10,
   "metadata": {},
   "outputs": [
    {
     "ename": "KeyboardInterrupt",
     "evalue": "",
     "output_type": "error",
     "traceback": [
      "\u001b[1;31m---------------------------------------------------------------------------\u001b[0m",
      "\u001b[1;31mKeyboardInterrupt\u001b[0m                         Traceback (most recent call last)",
      "\u001b[1;32m<ipython-input-10-f54c76947af6>\u001b[0m in \u001b[0;36m<module>\u001b[1;34m\u001b[0m\n\u001b[0;32m     29\u001b[0m     \u001b[0mcolorTrue\u001b[0m\u001b[1;33m,\u001b[0m \u001b[0mcolorImg\u001b[0m \u001b[1;33m=\u001b[0m \u001b[0mcolorCorrection\u001b[0m\u001b[1;33m.\u001b[0m\u001b[0mcolorValues\u001b[0m\u001b[1;33m(\u001b[0m\u001b[0mimLensRGB\u001b[0m\u001b[1;33m,\u001b[0m \u001b[0mcoor\u001b[0m\u001b[1;33m,\u001b[0m \u001b[0mtrayCol\u001b[0m\u001b[1;33m,\u001b[0m \u001b[0mtrayRow\u001b[0m\u001b[1;33m,\u001b[0m \u001b[0mlabel\u001b[0m\u001b[1;33m,\u001b[0m \u001b[0mcard\u001b[0m\u001b[1;33m)\u001b[0m\u001b[1;33m\u001b[0m\u001b[1;33m\u001b[0m\u001b[0m\n\u001b[0;32m     30\u001b[0m     \u001b[0malpha\u001b[0m\u001b[1;33m,\u001b[0m \u001b[0mbeta\u001b[0m \u001b[1;33m=\u001b[0m \u001b[0mcolorCorrection\u001b[0m\u001b[1;33m.\u001b[0m\u001b[0mfit\u001b[0m\u001b[1;33m(\u001b[0m\u001b[0mcolorTrue\u001b[0m\u001b[1;33m,\u001b[0m \u001b[0mcolorImg\u001b[0m\u001b[1;33m)\u001b[0m\u001b[1;33m\u001b[0m\u001b[1;33m\u001b[0m\u001b[0m\n\u001b[1;32m---> 31\u001b[1;33m     \u001b[0mimCorrRGB\u001b[0m \u001b[1;33m=\u001b[0m \u001b[0mcolorCorrection\u001b[0m\u001b[1;33m.\u001b[0m\u001b[0mcorrect\u001b[0m\u001b[1;33m(\u001b[0m\u001b[0mimLensRGB\u001b[0m\u001b[1;33m,\u001b[0m \u001b[0malpha\u001b[0m\u001b[1;33m,\u001b[0m \u001b[0mbeta\u001b[0m\u001b[1;33m)\u001b[0m\u001b[1;33m\u001b[0m\u001b[1;33m\u001b[0m\u001b[0m\n\u001b[0m\u001b[0;32m     32\u001b[0m     \u001b[0mimCorrBGR\u001b[0m \u001b[1;33m=\u001b[0m \u001b[0mcv2\u001b[0m\u001b[1;33m.\u001b[0m\u001b[0mcvtColor\u001b[0m\u001b[1;33m(\u001b[0m\u001b[0mimCorrRGB\u001b[0m\u001b[1;33m,\u001b[0m \u001b[0mcv2\u001b[0m\u001b[1;33m.\u001b[0m\u001b[0mCOLOR_RGB2BGR\u001b[0m\u001b[1;33m)\u001b[0m\u001b[1;33m\u001b[0m\u001b[1;33m\u001b[0m\u001b[0m\n\u001b[0;32m     33\u001b[0m \u001b[1;33m\u001b[0m\u001b[0m\n",
      "\u001b[1;32m~\\OneDrive - LA TROBE UNIVERSITY\\PhD - GitHub\\DAPD_Normalization\\DAPD_2_Normalization\\colorCorrection.py\u001b[0m in \u001b[0;36mcorrect\u001b[1;34m(img, alpha, beta)\u001b[0m\n\u001b[0;32m     85\u001b[0m     \u001b[1;32mfor\u001b[0m \u001b[0mcnt\u001b[0m \u001b[1;32min\u001b[0m \u001b[0mrange\u001b[0m\u001b[1;33m(\u001b[0m\u001b[0mimg\u001b[0m\u001b[1;33m.\u001b[0m\u001b[0mshape\u001b[0m\u001b[1;33m[\u001b[0m\u001b[1;36m2\u001b[0m\u001b[1;33m]\u001b[0m\u001b[1;33m)\u001b[0m\u001b[1;33m:\u001b[0m\u001b[1;33m\u001b[0m\u001b[1;33m\u001b[0m\u001b[0m\n\u001b[0;32m     86\u001b[0m         \u001b[0maux\u001b[0m  \u001b[1;33m=\u001b[0m \u001b[0mimg\u001b[0m\u001b[1;33m[\u001b[0m\u001b[1;33m:\u001b[0m\u001b[1;33m,\u001b[0m \u001b[1;33m:\u001b[0m\u001b[1;33m,\u001b[0m \u001b[0mcnt\u001b[0m\u001b[1;33m]\u001b[0m \u001b[1;33m*\u001b[0m \u001b[0malpha\u001b[0m\u001b[1;33m[\u001b[0m\u001b[0mcnt\u001b[0m\u001b[1;33m]\u001b[0m \u001b[1;33m+\u001b[0m \u001b[0mbeta\u001b[0m\u001b[1;33m[\u001b[0m\u001b[0mcnt\u001b[0m\u001b[1;33m]\u001b[0m\u001b[1;33m\u001b[0m\u001b[1;33m\u001b[0m\u001b[0m\n\u001b[1;32m---> 87\u001b[1;33m         \u001b[0mres\u001b[0m\u001b[1;33m[\u001b[0m\u001b[1;33m:\u001b[0m\u001b[1;33m,\u001b[0m \u001b[1;33m:\u001b[0m\u001b[1;33m,\u001b[0m \u001b[0mcnt\u001b[0m\u001b[1;33m]\u001b[0m \u001b[1;33m=\u001b[0m \u001b[0mnp\u001b[0m\u001b[1;33m.\u001b[0m\u001b[0muint8\u001b[0m\u001b[1;33m(\u001b[0m\u001b[0mnp\u001b[0m\u001b[1;33m.\u001b[0m\u001b[0mclip\u001b[0m\u001b[1;33m(\u001b[0m\u001b[0maux\u001b[0m\u001b[1;33m,\u001b[0m \u001b[1;36m0\u001b[0m\u001b[1;33m,\u001b[0m \u001b[1;36m255\u001b[0m\u001b[1;33m)\u001b[0m\u001b[1;33m)\u001b[0m\u001b[1;33m\u001b[0m\u001b[1;33m\u001b[0m\u001b[0m\n\u001b[0m\u001b[0;32m     88\u001b[0m \u001b[1;33m\u001b[0m\u001b[0m\n\u001b[0;32m     89\u001b[0m     \u001b[1;32mreturn\u001b[0m \u001b[0mres\u001b[0m\u001b[1;33m\u001b[0m\u001b[1;33m\u001b[0m\u001b[0m\n",
      "\u001b[1;32m<__array_function__ internals>\u001b[0m in \u001b[0;36mclip\u001b[1;34m(*args, **kwargs)\u001b[0m\n",
      "\u001b[1;32mC:\\ProgramData\\Anaconda3\\lib\\site-packages\\numpy\\core\\fromnumeric.py\u001b[0m in \u001b[0;36mclip\u001b[1;34m(a, a_min, a_max, out, **kwargs)\u001b[0m\n\u001b[0;32m   2082\u001b[0m \u001b[1;33m\u001b[0m\u001b[0m\n\u001b[0;32m   2083\u001b[0m     \"\"\"\n\u001b[1;32m-> 2084\u001b[1;33m     \u001b[1;32mreturn\u001b[0m \u001b[0m_wrapfunc\u001b[0m\u001b[1;33m(\u001b[0m\u001b[0ma\u001b[0m\u001b[1;33m,\u001b[0m \u001b[1;34m'clip'\u001b[0m\u001b[1;33m,\u001b[0m \u001b[0ma_min\u001b[0m\u001b[1;33m,\u001b[0m \u001b[0ma_max\u001b[0m\u001b[1;33m,\u001b[0m \u001b[0mout\u001b[0m\u001b[1;33m=\u001b[0m\u001b[0mout\u001b[0m\u001b[1;33m,\u001b[0m \u001b[1;33m**\u001b[0m\u001b[0mkwargs\u001b[0m\u001b[1;33m)\u001b[0m\u001b[1;33m\u001b[0m\u001b[1;33m\u001b[0m\u001b[0m\n\u001b[0m\u001b[0;32m   2085\u001b[0m \u001b[1;33m\u001b[0m\u001b[0m\n\u001b[0;32m   2086\u001b[0m \u001b[1;33m\u001b[0m\u001b[0m\n",
      "\u001b[1;32mC:\\ProgramData\\Anaconda3\\lib\\site-packages\\numpy\\core\\fromnumeric.py\u001b[0m in \u001b[0;36m_wrapfunc\u001b[1;34m(obj, method, *args, **kwds)\u001b[0m\n\u001b[0;32m     59\u001b[0m \u001b[1;33m\u001b[0m\u001b[0m\n\u001b[0;32m     60\u001b[0m     \u001b[1;32mtry\u001b[0m\u001b[1;33m:\u001b[0m\u001b[1;33m\u001b[0m\u001b[1;33m\u001b[0m\u001b[0m\n\u001b[1;32m---> 61\u001b[1;33m         \u001b[1;32mreturn\u001b[0m \u001b[0mbound\u001b[0m\u001b[1;33m(\u001b[0m\u001b[1;33m*\u001b[0m\u001b[0margs\u001b[0m\u001b[1;33m,\u001b[0m \u001b[1;33m**\u001b[0m\u001b[0mkwds\u001b[0m\u001b[1;33m)\u001b[0m\u001b[1;33m\u001b[0m\u001b[1;33m\u001b[0m\u001b[0m\n\u001b[0m\u001b[0;32m     62\u001b[0m     \u001b[1;32mexcept\u001b[0m \u001b[0mTypeError\u001b[0m\u001b[1;33m:\u001b[0m\u001b[1;33m\u001b[0m\u001b[1;33m\u001b[0m\u001b[0m\n\u001b[0;32m     63\u001b[0m         \u001b[1;31m# A TypeError occurs if the object does have such a method in its\u001b[0m\u001b[1;33m\u001b[0m\u001b[1;33m\u001b[0m\u001b[1;33m\u001b[0m\u001b[0m\n",
      "\u001b[1;32mC:\\ProgramData\\Anaconda3\\lib\\site-packages\\numpy\\core\\_methods.py\u001b[0m in \u001b[0;36m_clip\u001b[1;34m(a, min, max, out, casting, **kwargs)\u001b[0m\n\u001b[0;32m    130\u001b[0m     \u001b[1;32melse\u001b[0m\u001b[1;33m:\u001b[0m\u001b[1;33m\u001b[0m\u001b[1;33m\u001b[0m\u001b[0m\n\u001b[0;32m    131\u001b[0m         return _clip_dep_invoke_with_casting(\n\u001b[1;32m--> 132\u001b[1;33m             um.clip, a, min, max, out=out, casting=casting, **kwargs)\n\u001b[0m\u001b[0;32m    133\u001b[0m \u001b[1;33m\u001b[0m\u001b[0m\n\u001b[0;32m    134\u001b[0m \u001b[1;32mdef\u001b[0m \u001b[0m_mean\u001b[0m\u001b[1;33m(\u001b[0m\u001b[0ma\u001b[0m\u001b[1;33m,\u001b[0m \u001b[0maxis\u001b[0m\u001b[1;33m=\u001b[0m\u001b[1;32mNone\u001b[0m\u001b[1;33m,\u001b[0m \u001b[0mdtype\u001b[0m\u001b[1;33m=\u001b[0m\u001b[1;32mNone\u001b[0m\u001b[1;33m,\u001b[0m \u001b[0mout\u001b[0m\u001b[1;33m=\u001b[0m\u001b[1;32mNone\u001b[0m\u001b[1;33m,\u001b[0m \u001b[0mkeepdims\u001b[0m\u001b[1;33m=\u001b[0m\u001b[1;32mFalse\u001b[0m\u001b[1;33m)\u001b[0m\u001b[1;33m:\u001b[0m\u001b[1;33m\u001b[0m\u001b[1;33m\u001b[0m\u001b[0m\n",
      "\u001b[1;32mC:\\ProgramData\\Anaconda3\\lib\\site-packages\\numpy\\core\\_methods.py\u001b[0m in \u001b[0;36m_clip_dep_invoke_with_casting\u001b[1;34m(ufunc, out, casting, *args, **kwargs)\u001b[0m\n\u001b[0;32m     83\u001b[0m     \u001b[1;31m# try to deal with broken casting rules\u001b[0m\u001b[1;33m\u001b[0m\u001b[1;33m\u001b[0m\u001b[1;33m\u001b[0m\u001b[0m\n\u001b[0;32m     84\u001b[0m     \u001b[1;32mtry\u001b[0m\u001b[1;33m:\u001b[0m\u001b[1;33m\u001b[0m\u001b[1;33m\u001b[0m\u001b[0m\n\u001b[1;32m---> 85\u001b[1;33m         \u001b[1;32mreturn\u001b[0m \u001b[0mufunc\u001b[0m\u001b[1;33m(\u001b[0m\u001b[1;33m*\u001b[0m\u001b[0margs\u001b[0m\u001b[1;33m,\u001b[0m \u001b[0mout\u001b[0m\u001b[1;33m=\u001b[0m\u001b[0mout\u001b[0m\u001b[1;33m,\u001b[0m \u001b[1;33m**\u001b[0m\u001b[0mkwargs\u001b[0m\u001b[1;33m)\u001b[0m\u001b[1;33m\u001b[0m\u001b[1;33m\u001b[0m\u001b[0m\n\u001b[0m\u001b[0;32m     86\u001b[0m     \u001b[1;32mexcept\u001b[0m \u001b[0m_exceptions\u001b[0m\u001b[1;33m.\u001b[0m\u001b[0m_UFuncOutputCastingError\u001b[0m \u001b[1;32mas\u001b[0m \u001b[0me\u001b[0m\u001b[1;33m:\u001b[0m\u001b[1;33m\u001b[0m\u001b[1;33m\u001b[0m\u001b[0m\n\u001b[0;32m     87\u001b[0m         \u001b[1;31m# Numpy 1.17.0, 2019-02-24\u001b[0m\u001b[1;33m\u001b[0m\u001b[1;33m\u001b[0m\u001b[1;33m\u001b[0m\u001b[0m\n",
      "\u001b[1;31mKeyboardInterrupt\u001b[0m: "
     ]
    }
   ],
   "source": [
    "condition = pd.DataFrame(columns = ['tray'])\n",
    "cntAll = 0\n",
    "\n",
    "cntAux, end, step = 0, 11, 1\n",
    "for mainCnt in range(cntAux,len(images)):\n",
    "# for mainCnt in range(cntAux, end, step):\n",
    "# for mainCnt in range(cntAux,cntAux+1):\n",
    "    imName = images[mainCnt]\n",
    "    date = datetime.strptime(imName.split('_')[-1].split('.')[0], '%Y-%m-%d-%H-%M-%S')\n",
    "    dateSowing = datetime.strptime(daySowing, '%Y-%m-%d-%H-%M')\n",
    "    dateDelta = date - dateSowing\n",
    "    mins = dateDelta.total_seconds()/60\n",
    "    \n",
    "    # print('Images Name =',imName,'Day=',dateDelta.days , 'mins =',mins, 'Number=',mainCnt) \n",
    "\n",
    "    imPath = os.path.join(path_images,imName)                                                        # Image full path\n",
    "    imsrc = cv2.imread(imPath,cv2.IMREAD_ANYCOLOR | cv2.IMREAD_ANYDEPTH)            # Read Image raw format\n",
    "    \n",
    "    if not type(imsrc) is np.ndarray: continue\n",
    "\n",
    "    h,  w = imsrc.shape[:2]\n",
    "    newcameramtx, roi = cv2.getOptimalNewCameraMatrix(mtx,dist,(w,h),1,(w,h))\n",
    "    mapx, mapy = cv2.initUndistortRectifyMap(mtx,dist,None,newcameramtx,(w,h),5)\n",
    "    imLens = cv2.remap(imsrc,mapx,mapy,cv2.INTER_LINEAR)\n",
    "    tARow, tACol, tAH, tAW = cropping.trayAll(coor)\n",
    "    trays = imLens[tARow : tARow + tAH, tACol : tACol + tAW]\n",
    "\n",
    "    imLensRGB = cv2.cvtColor(imLens, cv2.COLOR_BGR2RGB)\n",
    "    colorTrue, colorImg = colorCorrection.colorValues(imLensRGB, coor, trayCol, trayRow, label, card)\n",
    "    alpha, beta = colorCorrection.fit(colorTrue, colorImg)\n",
    "    imCorrRGB = colorCorrection.correct(imLensRGB, alpha, beta)\n",
    "    imCorrBGR = cv2.cvtColor(imCorrRGB, cv2.COLOR_RGB2BGR)\n",
    "\n",
    "    \n",
    "    # plotting.im(imLens, 'imLens ' + 'day=' + str(dateDelta.days))\n",
    "    # plotting.im(imCorrBGR, 'imCorrBGR ' + 'day=' + str(dateDelta.days))\n",
    "    # cv2.imwrite(os.path.join(path_trash, 'Correc' + imName), imCorrBGR)\n",
    "    # cv2.imwrite(os.path.join(path_trash, imName), imLens)\n",
    " \n",
    "    \n",
    "    # for cntP in range(30):\n",
    "    for cntP in range(len(potCoor)):\n",
    "        trayNum, posn, pTop, pLeft, pcRow, pcCol, pixelSiz = potCoor.loc[cntP, :].values\n",
    "        trayName = 'T'+ str(trayNum).zfill(2)\n",
    "        potName = label[\"ecotype\"][(label[\"tray\"] == trayNum) & \n",
    "                                (label[\"position\"]==posn)].values.tolist()[0]\n",
    "        \n",
    "        if potName == 'Checker': continue \n",
    "        if potName == \"Null\" : continue \n",
    "\n",
    "        \n",
    "        potCrp = imCorrBGR[pTop : pcRow+win, pLeft: pcCol + win]\n",
    "        off = np.int(np.mean(potCrp.shape[0:2])*0.30)\n",
    "        potAux = potCrp[off:(potCrp.shape[0]) - off,off:(potCrp.shape[1]) - off] \n",
    "        mask = imalgo.grosSegm(potAux, 21)\n",
    "        pixels = len(mask[mask > 0])\n",
    "        sid = int((1.5) * np.sqrt(pixels))\n",
    "        # plotting.im(mask ,'mask ')\n",
    "    \n",
    "        if pixels <= 10: continue\n",
    "    \n",
    "        # print(10*'-')\n",
    "    \n",
    "        mTop, mLeft, mcRow, mcCol = cropping.mask(mask, pcRow, pcCol, win, off)\n",
    "        # pot = imCorrBGR[mTop : mcRow + win, mLeft : mcCol + win]\n",
    "        pot = imCorrBGR[mcRow - sid : mcRow + sid, mcCol - sid : mcCol + sid]\n",
    "        \n",
    "        maskSeg, potSeg =  segmentation.segment(pot)\n",
    "        \n",
    "        if len(maskSeg[maskSeg>0]) == 0: continue\n",
    "        \n",
    "        cntr, rosPheno = imalgo.pheno(maskSeg)\n",
    "        area= len(np.where(maskSeg==255)[0])\n",
    "        areamm2 = area * (pixelSiz ** 2)\n",
    "\n",
    "        # plotting.imT(pot, potSeg, trayName + posn, 'potSeg ' + str(off))\n",
    "        \n",
    "        \n",
    "        rosSig,rosXY,rosMeanX,rosMeanY = leafcount.radialTrans(maskSeg)\n",
    "        rosSig = np.roll(rosSig, - np.argmin(rosSig))\n",
    "        num, den = signal.ellip(8, 0.01, 120, 0.125)              # Elliptic Filter Coefficient num, (Order, ripple, atte, )\n",
    "        fgust = signal.filtfilt(num, den, rosSig, method=\"gust\")\n",
    "        fgust2 = np.max(fgust) -  fgust\n",
    "        peaks, _ = find_peaks(fgust, height=0)\n",
    "        peaks2, _ = find_peaks(fgust2, height=0)\n",
    "        fileID = potName, posn, trayName, cam, expID, mins, date\n",
    "       \n",
    "        save.CVS(fileID,path_CSV,areamm2,rosPheno,len(peaks))\n",
    "\n"
   ]
  }
 ],
 "metadata": {
  "kernelspec": {
   "display_name": "Python 3",
   "language": "python",
   "name": "python3"
  },
  "language_info": {
   "codemirror_mode": {
    "name": "ipython",
    "version": 3
   },
   "file_extension": ".py",
   "mimetype": "text/x-python",
   "name": "python",
   "nbconvert_exporter": "python",
   "pygments_lexer": "ipython3",
   "version": "3.7.7"
  },
  "varInspector": {
   "cols": {
    "lenName": 16,
    "lenType": 16,
    "lenVar": 40
   },
   "kernels_config": {
    "python": {
     "delete_cmd_postfix": "",
     "delete_cmd_prefix": "del ",
     "library": "var_list.py",
     "varRefreshCmd": "print(var_dic_list())"
    },
    "r": {
     "delete_cmd_postfix": ") ",
     "delete_cmd_prefix": "rm(",
     "library": "var_list.r",
     "varRefreshCmd": "cat(var_dic_list()) "
    }
   },
   "types_to_exclude": [
    "module",
    "function",
    "builtin_function_or_method",
    "instance",
    "_Feature"
   ],
   "window_display": false
  }
 },
 "nbformat": 4,
 "nbformat_minor": 2
}
